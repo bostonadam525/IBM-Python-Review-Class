{
 "cells": [
  {
   "cell_type": "code",
   "execution_count": null,
   "metadata": {},
   "outputs": [],
   "source": [
    "Welcome to the Unit 3 lab! Now that we've learned some new data structures, let's put them to use in our weather forecasting application.\n",
    "\n",
    "Goals\n",
    "In this lab, you will:\n",
    "\n",
    "Write and use complex data types to organize weather data efficiently.\n",
    "Write classes and methods to calculate and display the weather forecast."
   ]
  },
  {
   "cell_type": "code",
   "execution_count": null,
   "metadata": {},
   "outputs": [],
   "source": [
    "Restructuring Data\n",
    "Suppose we want to offer the user the opportunity to select the temperature scale in which they view their weather forecast. Create a variable, temperature_scale, that is a set with the following strings:\n",
    "\n",
    "\"Fahrenheit\"\n",
    "\"Celsius\"\n",
    "\"Kelvin\"\n",
    "Print the variable temperature_scale."
   ]
  },
  {
   "cell_type": "code",
   "execution_count": 2,
   "metadata": {},
   "outputs": [
    {
     "name": "stdout",
     "output_type": "stream",
     "text": [
      "['Fahrenheit', 'Celsius', 'Kelvin']\n"
     ]
    }
   ],
   "source": [
    "# Enter your code below:\n",
    "temperature_scale = [\"Fahrenheit\",\"Celsius\",\"Kelvin\"]\n",
    "print(temperature_scale)"
   ]
  },
  {
   "cell_type": "code",
   "execution_count": null,
   "metadata": {},
   "outputs": [],
   "source": [
    "Weather data is typically taken and recorded every hour. Let's combine the following lists into a single, table-like structure of data we can review.\n",
    "\n",
    "Create a list called weather_data. This list will be composed of dictionary objects for each hour over a 24-hour span. Each of the dictionaries should have the following four keys: \"hour\", \"temperature\", \"humidity\", and \"rainfall\". Begin counting at hour 0 and end at hour 23.\n",
    "\n",
    "Then, iterate through weather_data and print out each dictionary — one dictionary per line."
   ]
  },
  {
   "cell_type": "code",
   "execution_count": 97,
   "metadata": {},
   "outputs": [
    {
     "data": {
      "text/plain": [
       "81"
      ]
     },
     "execution_count": 97,
     "metadata": {},
     "output_type": "execute_result"
    }
   ],
   "source": [
    "one_day_of_hourly_temperatures[10]"
   ]
  },
  {
   "cell_type": "code",
   "execution_count": 96,
   "metadata": {},
   "outputs": [
    {
     "name": "stdout",
     "output_type": "stream",
     "text": [
      "{'hour': 0, 'temperature': 67, 'humidity': 60, 'rainfall': 0}\n",
      "{'hour': 1, 'temperature': 67, 'humidity': 65, 'rainfall': 0}\n",
      "{'hour': 2, 'temperature': 68, 'humidity': 65, 'rainfall': 0}\n",
      "{'hour': 3, 'temperature': 69, 'humidity': 70, 'rainfall': 0.1}\n",
      "{'hour': 4, 'temperature': 71, 'humidity': 70, 'rainfall': 0.1}\n",
      "{'hour': 5, 'temperature': 73, 'humidity': 70, 'rainfall': 0.05}\n",
      "{'hour': 6, 'temperature': 75, 'humidity': 70, 'rainfall': 0.1}\n",
      "{'hour': 7, 'temperature': 76, 'humidity': 75, 'rainfall': 0.15}\n",
      "{'hour': 8, 'temperature': 79, 'humidity': 75, 'rainfall': 0.2}\n",
      "{'hour': 9, 'temperature': 81, 'humidity': 75, 'rainfall': 0.3}\n",
      "{'hour': 10, 'temperature': 81, 'humidity': 75, 'rainfall': 0.3}\n",
      "{'hour': 11, 'temperature': 80, 'humidity': 80, 'rainfall': 0.5}\n",
      "{'hour': 12, 'temperature': 82, 'humidity': 80, 'rainfall': 0}\n",
      "{'hour': 13, 'temperature': 81, 'humidity': 85, 'rainfall': 0}\n",
      "{'hour': 14, 'temperature': 81, 'humidity': 85, 'rainfall': 0}\n",
      "{'hour': 15, 'temperature': 80, 'humidity': 85, 'rainfall': 0}\n",
      "{'hour': 16, 'temperature': 78, 'humidity': 85, 'rainfall': 0}\n",
      "{'hour': 17, 'temperature': 75, 'humidity': 80, 'rainfall': 0}\n",
      "{'hour': 18, 'temperature': 72, 'humidity': 80, 'rainfall': 0}\n",
      "{'hour': 19, 'temperature': 70, 'humidity': 80, 'rainfall': 0}\n",
      "{'hour': 20, 'temperature': 67, 'humidity': 80, 'rainfall': 0}\n",
      "{'hour': 21, 'temperature': 65, 'humidity': 80, 'rainfall': 0}\n",
      "{'hour': 22, 'temperature': 66, 'humidity': 80, 'rainfall': 0}\n",
      "{'hour': 23, 'temperature': 66, 'humidity': 80, 'rainfall': 0}\n"
     ]
    }
   ],
   "source": [
    "one_day_of_hourly_temperatures = [67,67,68,69,71,73,75,76,79,81,81,80,82,81,81,80,78,75,72,70,67,65,66,66]\n",
    "one_day_of_hourly_humidity = [60,65,65,70,70,70,70,75,75,75,75,80,80,85,85,85,85,80,80,80,80,80,80,80]\n",
    "one_day_of_hourly_rainfall = [0,0,0,0.1,0.1,0.05,0.1,0.15,0.2,0.3,0.3,0.5,0,0,0,0,0,0,0,0,0,0,0,0]\n",
    "\n",
    "# Enter your code below:\n",
    "weather_data = [ {\"hour\":0,\"temperature\":67,\"humidity\":60,\"rainfall\":0},{\"hour\":1,\"temperature\":67,\"humidity\":65,\"rainfall\":0},\n",
    "                {\"hour\":2,\"temperature\":68,\"humidity\":65,\"rainfall\":0},{\"hour\":3,\"temperature\":69,\"humidity\":70,\"rainfall\":0.1},\n",
    "                {\"hour\":4,\"temperature\":71,\"humidity\":70,\"rainfall\":0.1},{\"hour\":5,\"temperature\":73,\"humidity\":70,\"rainfall\":0.05},\n",
    "                {\"hour\":6,\"temperature\":75,\"humidity\":70,\"rainfall\":0.1}, {\"hour\":7,\"temperature\":76,\"humidity\":75,\"rainfall\":0.15},\n",
    "                {\"hour\":8,\"temperature\":79,\"humidity\":75,\"rainfall\":0.2},{\"hour\":9,\"temperature\":81,\"humidity\":75,\"rainfall\":0.3},\n",
    "                {\"hour\":10,\"temperature\":81,\"humidity\":75,\"rainfall\":0.3},{\"hour\":11,\"temperature\":80,\"humidity\":80,\"rainfall\":0.5},\n",
    "                {\"hour\":12,\"temperature\":82,\"humidity\":80,\"rainfall\":0},{\"hour\":13,\"temperature\":81,\"humidity\":85,\"rainfall\":0},\n",
    "                {\"hour\":14,\"temperature\":81,\"humidity\":85,\"rainfall\":0},{\"hour\":15,\"temperature\":80,\"humidity\":85,\"rainfall\":0},\n",
    "                {\"hour\":16,\"temperature\":78,\"humidity\":85,\"rainfall\":0},{\"hour\":17,\"temperature\":75,\"humidity\":80,\"rainfall\":0},\n",
    "                {\"hour\":18,\"temperature\":72,\"humidity\":80,\"rainfall\":0},{\"hour\":19,\"temperature\":70,\"humidity\":80,\"rainfall\":0},\n",
    "                {\"hour\":20,\"temperature\":67,\"humidity\":80,\"rainfall\":0},{\"hour\":21,\"temperature\":65,\"humidity\":80,\"rainfall\":0},\n",
    "                {\"hour\":22,\"temperature\":66,\"humidity\":80,\"rainfall\":0},{\"hour\":23,\"temperature\":66,\"humidity\":80,\"rainfall\":0}\n",
    "               ]\n",
    "\n",
    "\n",
    "# Enter your code below:\n",
    "weather_data = []\n",
    "for i in range(len(one_day_of_hourly_temperatures)):\n",
    "    current_hour = {\n",
    "        \"hour\": i,\n",
    "        \"temperature\": one_day_of_hourly_temperatures[i],\n",
    "        \"humidity\": one_day_of_hourly_humidity[i],\n",
    "        \"rainfall\": one_day_of_hourly_rainfall[i]\n",
    "    }\n",
    "    weather_data.append(current_hour)\n",
    "\n",
    "for hour in weather_data:\n",
    "    print(hour)\n",
    "\n"
   ]
  },
  {
   "cell_type": "code",
   "execution_count": 110,
   "metadata": {},
   "outputs": [
    {
     "name": "stdout",
     "output_type": "stream",
     "text": [
      "{'hour': 0, 'temperature': 67, 'humidity': 60, 'rainfall': 0}\n",
      "{'hour': 1, 'temperature': 67, 'humidity': 65, 'rainfall': 0}\n",
      "{'hour': 2, 'temperature': 68, 'humidity': 65, 'rainfall': 0}\n",
      "{'hour': 3, 'temperature': 69, 'humidity': 70, 'rainfall': 0.1}\n",
      "{'hour': 4, 'temperature': 71, 'humidity': 70, 'rainfall': 0.1}\n",
      "{'hour': 5, 'temperature': 73, 'humidity': 70, 'rainfall': 0.05}\n",
      "{'hour': 6, 'temperature': 75, 'humidity': 70, 'rainfall': 0.1}\n",
      "{'hour': 7, 'temperature': 76, 'humidity': 75, 'rainfall': 0.15}\n",
      "{'hour': 8, 'temperature': 79, 'humidity': 75, 'rainfall': 0.2}\n",
      "{'hour': 9, 'temperature': 81, 'humidity': 75, 'rainfall': 0.3}\n",
      "{'hour': 10, 'temperature': 81, 'humidity': 75, 'rainfall': 0.3}\n",
      "{'hour': 11, 'temperature': 80, 'humidity': 80, 'rainfall': 0.5}\n",
      "{'hour': 12, 'temperature': 82, 'humidity': 80, 'rainfall': 0}\n",
      "{'hour': 13, 'temperature': 81, 'humidity': 85, 'rainfall': 0}\n",
      "{'hour': 14, 'temperature': 81, 'humidity': 85, 'rainfall': 0}\n",
      "{'hour': 15, 'temperature': 80, 'humidity': 85, 'rainfall': 0}\n",
      "{'hour': 16, 'temperature': 78, 'humidity': 85, 'rainfall': 0}\n",
      "{'hour': 17, 'temperature': 75, 'humidity': 80, 'rainfall': 0}\n",
      "{'hour': 18, 'temperature': 72, 'humidity': 80, 'rainfall': 0}\n",
      "{'hour': 19, 'temperature': 70, 'humidity': 80, 'rainfall': 0}\n",
      "{'hour': 20, 'temperature': 67, 'humidity': 80, 'rainfall': 0}\n",
      "{'hour': 21, 'temperature': 65, 'humidity': 80, 'rainfall': 0}\n",
      "{'hour': 22, 'temperature': 66, 'humidity': 80, 'rainfall': 0}\n",
      "{'hour': 23, 'temperature': 66, 'humidity': 80, 'rainfall': 0}\n"
     ]
    }
   ],
   "source": [
    "weather_data=[]\n",
    "for i in range(len(one_day_of_hourly_temperatures)):\n",
    "    current_hour={\n",
    "        \"hour\":i,\n",
    "        \"temperature\": one_day_of_hourly_temperatures[i],\n",
    "        \"humidity\":one_day_of_hourly_humidity[i],\n",
    "        \"rainfall\":one_day_of_hourly_rainfall[i]\n",
    "    }\n",
    "    weather_data.append(current_hour)\n",
    "\n",
    "for hour in weather_data:\n",
    "    print(hour)"
   ]
  },
  {
   "cell_type": "code",
   "execution_count": 1,
   "metadata": {},
   "outputs": [],
   "source": [
    "one_day_of_hourly_temperatures = [67,67,68,69,71,73,75,76,79,81,81,80,82,81,81,80,78,75,72,70,67,65,66,66]\n",
    "one_day_of_hourly_humidity = [60,65,65,70,70,70,70,75,75,75,75,80,80,85,85,85,85,80,80,80,80,80,80,80]\n",
    "one_day_of_hourly_rainfall = [0,0,0,0.1,0.1,0.05,0.1,0.15,0.2,0.3,0.3,0.5,0,0,0,0,0,0,0,0,0,0,0,0]"
   ]
  },
  {
   "cell_type": "code",
   "execution_count": 8,
   "metadata": {},
   "outputs": [
    {
     "name": "stdout",
     "output_type": "stream",
     "text": [
      "{'hour': 0, 'temperature': 67, 'humidity': 60, 'rainfall': 0}\n",
      "{'hour': 1, 'temperature': 67, 'humidity': 65, 'rainfall': 0}\n",
      "{'hour': 2, 'temperature': 68, 'humidity': 65, 'rainfall': 0}\n",
      "{'hour': 3, 'temperature': 69, 'humidity': 70, 'rainfall': 0.1}\n",
      "{'hour': 4, 'temperature': 71, 'humidity': 70, 'rainfall': 0.1}\n",
      "{'hour': 5, 'temperature': 73, 'humidity': 70, 'rainfall': 0.05}\n",
      "{'hour': 6, 'temperature': 75, 'humidity': 70, 'rainfall': 0.1}\n",
      "{'hour': 7, 'temperature': 76, 'humidity': 75, 'rainfall': 0.15}\n",
      "{'hour': 8, 'temperature': 79, 'humidity': 75, 'rainfall': 0.2}\n",
      "{'hour': 9, 'temperature': 81, 'humidity': 75, 'rainfall': 0.3}\n",
      "{'hour': 10, 'temperature': 81, 'humidity': 75, 'rainfall': 0.3}\n",
      "{'hour': 11, 'temperature': 80, 'humidity': 80, 'rainfall': 0.5}\n",
      "{'hour': 12, 'temperature': 82, 'humidity': 80, 'rainfall': 0}\n",
      "{'hour': 13, 'temperature': 81, 'humidity': 85, 'rainfall': 0}\n",
      "{'hour': 14, 'temperature': 81, 'humidity': 85, 'rainfall': 0}\n",
      "{'hour': 15, 'temperature': 80, 'humidity': 85, 'rainfall': 0}\n",
      "{'hour': 16, 'temperature': 78, 'humidity': 85, 'rainfall': 0}\n",
      "{'hour': 17, 'temperature': 75, 'humidity': 80, 'rainfall': 0}\n",
      "{'hour': 18, 'temperature': 72, 'humidity': 80, 'rainfall': 0}\n",
      "{'hour': 19, 'temperature': 70, 'humidity': 80, 'rainfall': 0}\n",
      "{'hour': 20, 'temperature': 67, 'humidity': 80, 'rainfall': 0}\n",
      "{'hour': 21, 'temperature': 65, 'humidity': 80, 'rainfall': 0}\n",
      "{'hour': 22, 'temperature': 66, 'humidity': 80, 'rainfall': 0}\n",
      "{'hour': 23, 'temperature': 66, 'humidity': 80, 'rainfall': 0}\n"
     ]
    }
   ],
   "source": [
    "weather_data = []\n",
    "for i in range(len(one_day_of_hourly_temperatures)):\n",
    "    current_hour={\n",
    "        \"hour\":i,\n",
    "        \"temperature\":one_day_of_hourly_temperatures[i],\n",
    "        \"humidity\":one_day_of_hourly_humidity[i],\n",
    "        \"rainfall\":one_day_of_hourly_rainfall[i]\n",
    "    }\n",
    "    weather_data.append(current_hour)\n",
    "    \n",
    "for hour in weather_data:\n",
    "    print(hour)"
   ]
  },
  {
   "cell_type": "code",
   "execution_count": 6,
   "metadata": {},
   "outputs": [
    {
     "name": "stdout",
     "output_type": "stream",
     "text": [
      "{'hour': 0, 'temperature': 67, 'humidity': 60, 'rainfall': 0}\n",
      "{'hour': 1, 'temperature': 67, 'humidity': 65, 'rainfall': 0}\n",
      "{'hour': 2, 'temperature': 68, 'humidity': 65, 'rainfall': 0}\n",
      "{'hour': 3, 'temperature': 69, 'humidity': 70, 'rainfall': 0.1}\n",
      "{'hour': 4, 'temperature': 71, 'humidity': 70, 'rainfall': 0.1}\n",
      "{'hour': 5, 'temperature': 73, 'humidity': 70, 'rainfall': 0.05}\n",
      "{'hour': 6, 'temperature': 75, 'humidity': 70, 'rainfall': 0.1}\n",
      "{'hour': 7, 'temperature': 76, 'humidity': 75, 'rainfall': 0.15}\n",
      "{'hour': 8, 'temperature': 79, 'humidity': 75, 'rainfall': 0.2}\n",
      "{'hour': 9, 'temperature': 81, 'humidity': 75, 'rainfall': 0.3}\n",
      "{'hour': 10, 'temperature': 81, 'humidity': 75, 'rainfall': 0.3}\n",
      "{'hour': 11, 'temperature': 80, 'humidity': 80, 'rainfall': 0.5}\n",
      "{'hour': 12, 'temperature': 82, 'humidity': 80, 'rainfall': 0}\n",
      "{'hour': 13, 'temperature': 81, 'humidity': 85, 'rainfall': 0}\n",
      "{'hour': 14, 'temperature': 81, 'humidity': 85, 'rainfall': 0}\n",
      "{'hour': 15, 'temperature': 80, 'humidity': 85, 'rainfall': 0}\n",
      "{'hour': 16, 'temperature': 78, 'humidity': 85, 'rainfall': 0}\n",
      "{'hour': 17, 'temperature': 75, 'humidity': 80, 'rainfall': 0}\n",
      "{'hour': 18, 'temperature': 72, 'humidity': 80, 'rainfall': 0}\n",
      "{'hour': 19, 'temperature': 70, 'humidity': 80, 'rainfall': 0}\n",
      "{'hour': 20, 'temperature': 67, 'humidity': 80, 'rainfall': 0}\n",
      "{'hour': 21, 'temperature': 65, 'humidity': 80, 'rainfall': 0}\n",
      "{'hour': 22, 'temperature': 66, 'humidity': 80, 'rainfall': 0}\n",
      "{'hour': 23, 'temperature': 66, 'humidity': 80, 'rainfall': 0}\n"
     ]
    }
   ],
   "source": [
    "weather_data=[]\n",
    "for i in range(len(one_day_of_hourly_temperatures)):\n",
    "    current_hour={\n",
    "        \"hour\":i,\n",
    "        \"temperature\":one_day_of_hourly_temperatures[i],\n",
    "        \"humidity\":one_day_of_hourly_humidity[i],\n",
    "        \"rainfall\":one_day_of_hourly_rainfall[i]\n",
    "    }\n",
    "    weather_data.append(current_hour)\n",
    "    \n",
    "for hour in weather_data:\n",
    "    print(hour)"
   ]
  },
  {
   "cell_type": "code",
   "execution_count": 13,
   "metadata": {},
   "outputs": [
    {
     "ename": "SyntaxError",
     "evalue": "invalid syntax (<ipython-input-13-33fc8d9e7dec>, line 1)",
     "output_type": "error",
     "traceback": [
      "\u001b[1;36m  File \u001b[1;32m\"<ipython-input-13-33fc8d9e7dec>\"\u001b[1;36m, line \u001b[1;32m1\u001b[0m\n\u001b[1;33m    Using your weather_data list, print the following with one line of code for each print statement:\u001b[0m\n\u001b[1;37m             ^\u001b[0m\n\u001b[1;31mSyntaxError\u001b[0m\u001b[1;31m:\u001b[0m invalid syntax\n"
     ]
    }
   ],
   "source": [
    "Using your weather_data list, print the following with one line of code for each print statement:\n",
    "\n",
    "Temperature at 2 p.m.\n",
    "Humidity at 11 p.m.\n",
    "Rainfall at 9 a.m.\n"
   ]
  },
  {
   "cell_type": "code",
   "execution_count": 12,
   "metadata": {},
   "outputs": [
    {
     "name": "stdout",
     "output_type": "stream",
     "text": [
      "81\n",
      "80\n",
      "0.3\n"
     ]
    }
   ],
   "source": [
    "# Enter your code below:\n",
    "#Temperature at 2 p.m.\n",
    "print(weather_data[14][\"temperature\"])\n",
    "#Humidity at 11 p.m.\n",
    "print(weather_data[23][\"humidity\"])\n",
    "#Rainfall at 9 a.m.\n",
    "print(weather_data[10][\"rainfall\"])\n"
   ]
  },
  {
   "cell_type": "code",
   "execution_count": null,
   "metadata": {},
   "outputs": [],
   "source": [
    "Creating a Forecast Class\n",
    "Start by creating a Forecast class that accepts one argument, location, and assigns it as an instance attribute to self.location."
   ]
  },
  {
   "cell_type": "code",
   "execution_count": 74,
   "metadata": {},
   "outputs": [],
   "source": [
    "# Enter your code below:\n",
    "\n",
    "class Forecast:\n",
    "    def __init__(self,location):\n",
    "        self.location = location\n",
    "        "
   ]
  },
  {
   "cell_type": "code",
   "execution_count": null,
   "metadata": {},
   "outputs": [],
   "source": [
    "Calculation Methods\n",
    "Create two methods within the Forecast class:\n",
    "\n",
    "get_daily_high()\n",
    "get_daily_low()\n",
    "Use the built-in max() and min() functions on one_day_of_hourly_temperatures to return the daily high and low temperatures.\n",
    "\n",
    "Create a third method within the Forecast class called get_daily_chance_of_rain(). This method should:\n",
    "\n",
    "Create a variable named number_of_years_of_data and set it to 10.\n",
    "Create a variable named times_it_has_rained and set it to 0.\n",
    "Calculate the sum of rainfall for all 24 hours of one_day_of_hourly_temperatures.\n",
    "If the sum of all 24 hours is greater than 0, increase times_it_has_rained by 1.\n",
    "Convert times_it_has_rained to a percentage by dividing it by number_of_years_of_data and multiplying it by 100.\n",
    "Return the final value.\n",
    "Note: We'll modify these three methods to process live data in future labs. For now, we're setting up the basic logic on test data."
   ]
  },
  {
   "cell_type": "code",
   "execution_count": 75,
   "metadata": {},
   "outputs": [],
   "source": [
    "# Copy and paste the Forecast class you built in the previous cell and add the new features to it below:\n",
    "class Forecast:\n",
    "    def __init__(self,location):\n",
    "        self.location = location\n",
    "        \n",
    "    def get_daily_high(self):\n",
    "        return max(one_day_of_hourly_temperatures)\n",
    "        \n",
    "    def get_daily_low(self):\n",
    "        return min(one_day_of_hourly_temperatures)\n",
    "        \n",
    "    def get_daily_chance_of_rain(self,number_of_years_of_data = 10,times_it_has_rained = 0):\n",
    "        self.number_of_years_of_data = number_of_years_of_data\n",
    "        self.times_it_has_rained = times_it_has_rained\n",
    "        sum(one_day_of_hourly_temperatures)\n",
    "        if sum(one_day_of_hourly_temperatures) > 0:\n",
    "            times_it_has_rained += 1\n",
    "        \n",
    "        return (times_it_has_rained/number_of_years_of_data)*100\n",
    "            \n",
    "        \n"
   ]
  },
  {
   "cell_type": "code",
   "execution_count": 118,
   "metadata": {},
   "outputs": [],
   "source": [
    "forecast = Forecast(\"Boston,MA\")"
   ]
  },
  {
   "cell_type": "code",
   "execution_count": 119,
   "metadata": {},
   "outputs": [
    {
     "data": {
      "text/plain": [
       "'Boston,MA'"
      ]
     },
     "execution_count": 119,
     "metadata": {},
     "output_type": "execute_result"
    }
   ],
   "source": [
    "forecast.location"
   ]
  },
  {
   "cell_type": "code",
   "execution_count": 121,
   "metadata": {},
   "outputs": [
    {
     "data": {
      "text/plain": [
       "65"
      ]
     },
     "execution_count": 121,
     "metadata": {},
     "output_type": "execute_result"
    }
   ],
   "source": [
    "forecast.get_daily_low()"
   ]
  },
  {
   "cell_type": "code",
   "execution_count": null,
   "metadata": {},
   "outputs": [],
   "source": [
    "Run the following cell after you're finished to test your output:"
   ]
  },
  {
   "cell_type": "code",
   "execution_count": 76,
   "metadata": {},
   "outputs": [
    {
     "name": "stdout",
     "output_type": "stream",
     "text": [
      "High: 82\n",
      "Low: 65\n",
      "Chance of Rain: None %\n"
     ]
    }
   ],
   "source": [
    "test = Forecast(\"Austin,TX\")\n",
    "print(\"High:\", test.get_daily_high())\n",
    "print(\"Low:\", test.get_daily_low())\n",
    "print(\"Chance of Rain:\", test.get_daily_chance_of_rain(),'%')"
   ]
  },
  {
   "cell_type": "code",
   "execution_count": 68,
   "metadata": {},
   "outputs": [
    {
     "ename": "SyntaxError",
     "evalue": "invalid syntax (<ipython-input-68-5d427924bcd1>, line 1)",
     "output_type": "error",
     "traceback": [
      "\u001b[1;36m  File \u001b[1;32m\"<ipython-input-68-5d427924bcd1>\"\u001b[1;36m, line \u001b[1;32m1\u001b[0m\n\u001b[1;33m    Display Methods\u001b[0m\n\u001b[1;37m                  ^\u001b[0m\n\u001b[1;31mSyntaxError\u001b[0m\u001b[1;31m:\u001b[0m invalid syntax\n"
     ]
    }
   ],
   "source": [
    "Display Methods\n",
    "Back in Lab 1, we printed \"The weather forecast for today is: High of 85, low of 69, with a 15.0% chance of precipitation.\" using the four following variables and the values we assigned to them:\n",
    "\n",
    "message_to_user\n",
    "todays_high\n",
    "todays_low\n",
    "chance_of_precipitation\n",
    "Now, we're going to display this same message but with the calculated values from the methods we just created.\n",
    "\n",
    "Create a display_daily_forecast() method within the Forecast class that, when called, will print out a string matching the one above.\n",
    "\n",
    "This method will insert the high temperature, low temperature, and chance of rain by calling the following internal class methods, respectively:\n",
    "\n",
    "get_daily_high()\n",
    "get_daily_low()\n",
    "get_daily_chance_of_rain()\n",
    "Next, create a display_weekly_forecast() method within the Forecast class:\n",
    "\n",
    "When called, this method will print out a message in the format shown in the code block below.\n",
    "Note: We only have one day of data we're currently using, so High, Low, and Rain will all be the same for now.\n",
    "\n",
    "This week's weather forecast:             \n",
    "    Monday:    High 82, Low 65, Rain 10.0%            \n",
    "    Tuesday:   High 82, Low 65, Rain 10.0%            \n",
    "    Wednesday: High 82, Low 65, Rain 10.0%            \n",
    "    Thursday:  High 82, Low 65, Rain 10.0%            \n",
    "    Friday:    High 82, Low 65, Rain 10.0%            \n",
    "    Saturday:  High 82, Low 65, Rain 10.0%            \n",
    "    Sunday:    High 82, Low 65, Rain 10.0%\n",
    "Hint: Use \\n to create new lines in your print statement (i.e., print(\"First line\\nSecond line\")).\n",
    "\n",
    "Hint: Use \\t to simulate a tab character in your print statement (i.e., print(\"First Column\\tSecond Column\").\n",
    "\n",
    "Bonus: Convert class methods that are internally called to private methods via the use of the 'underscore', __method_name."
   ]
  },
  {
   "cell_type": "code",
   "execution_count": null,
   "metadata": {},
   "outputs": [],
   "source": [
    "myforecast=Forecast(\"Dorchester,MA\")"
   ]
  },
  {
   "cell_type": "code",
   "execution_count": null,
   "metadata": {},
   "outputs": [],
   "source": []
  },
  {
   "cell_type": "code",
   "execution_count": 9,
   "metadata": {},
   "outputs": [],
   "source": [
    "# Copy and paste the Forecast class you built in the previous cell and add the new features to it below:\n",
    "\n",
    "class Forecast:\n",
    "    def __init__(self,location):\n",
    "        self.location = location\n",
    "        # double underscore makes something \"private\"\n",
    "    def __get_daily_high(self):\n",
    "        return max(one_day_of_hourly_temperatures)\n",
    "    \n",
    "    def call_daily_high(self):\n",
    "        return self.__get_daily_high()\n",
    "        \n",
    "    def __get_daily_low(self):\n",
    "        return min(one_day_of_hourly_temperatures)\n",
    "        \n",
    "    def __get_daily_chance_of_rain(self,number_of_years_of_data = 10,times_it_has_rained = 0):\n",
    "        self.number_of_years_of_data = number_of_years_of_data\n",
    "        self.times_it_has_rained = times_it_has_rained\n",
    "        sum(one_day_of_hourly_temperatures)\n",
    "        if sum(one_day_of_hourly_temperatures) > 0:\n",
    "            times_it_has_rained += 1\n",
    "        else:\n",
    "            (times_it_has_rained/number_of_years_of_data)*100\n",
    "            return value\n",
    "        \n",
    "    def display_daily_forecast(self):\n",
    "        print(f\"The weather forecast for today is:\",{self.get_daily_high()},{self.get_daily_low()}, \"with a\",{self.get_daily_chance_of_rain()},\"chance of precipitation.\") \n",
    "\n",
    "    def display_weekly_forecast(self):\n",
    "        print(f\"This week's weather forecast:Monday:\",{self.get_daily_high()},{self.get_daily_low()},{self.get_daily_chance_of_rain()})\n",
    "        \n",
    "       \n",
    "\n",
    "        \n",
    "        "
   ]
  },
  {
   "cell_type": "code",
   "execution_count": 155,
   "metadata": {},
   "outputs": [],
   "source": [
    "class DesertForecast(Forecast):\n",
    "    def __init__(self,location=\"The Desert\"):\n",
    "        super().__init__(location)\n",
    "        self.location = location\n",
    "        \n",
    "        \n",
    "    def __get_daily_chance_of_rain(self):\n",
    "        return 0\n",
    "        "
   ]
  },
  {
   "cell_type": "code",
   "execution_count": 156,
   "metadata": {},
   "outputs": [],
   "source": [
    "f = Forecast(\"not the desert\")"
   ]
  },
  {
   "cell_type": "code",
   "execution_count": 157,
   "metadata": {},
   "outputs": [],
   "source": [
    "df=DesertForecast(\"Miami\")"
   ]
  },
  {
   "cell_type": "code",
   "execution_count": 148,
   "metadata": {},
   "outputs": [],
   "source": [
    "bad_forecast = Forecast(\"Maine\")"
   ]
  },
  {
   "cell_type": "code",
   "execution_count": 134,
   "metadata": {},
   "outputs": [],
   "source": [
    "myforecast=Forecast(\"Dorchester,MA\")"
   ]
  },
  {
   "cell_type": "code",
   "execution_count": 136,
   "metadata": {},
   "outputs": [
    {
     "data": {
      "text/plain": [
       "82"
      ]
     },
     "execution_count": 136,
     "metadata": {},
     "output_type": "execute_result"
    }
   ],
   "source": [
    "myforecast.call_daily_high()"
   ]
  },
  {
   "cell_type": "code",
   "execution_count": 109,
   "metadata": {},
   "outputs": [
    {
     "name": "stdout",
     "output_type": "stream",
     "text": [
      "Mo 10% chance of rain\n",
      "Tu 10% chance of rain\n",
      "We 10% chance of rain\n",
      "Th 10% chance of rain\n",
      "Fr 10% chance of rain\n",
      "Sat 10% chance of rain\n",
      "Sun 10% chance of rain\n"
     ]
    }
   ],
   "source": [
    "daily_forecast = \"10% chance of rain\"\n",
    "for day in [\"Mo\", \"Tu\", \"We\",\"Th\",\"Fr\",\"Sat\",\"Sun\"]:\n",
    "    msg = day + \" \" + daily_forecast\n",
    "    print(msg)"
   ]
  },
  {
   "cell_type": "code",
   "execution_count": null,
   "metadata": {},
   "outputs": [],
   "source": [
    "Run the following cell after you're finished to test your output:"
   ]
  },
  {
   "cell_type": "code",
   "execution_count": 95,
   "metadata": {},
   "outputs": [
    {
     "name": "stdout",
     "output_type": "stream",
     "text": [
      "The weather forecast for today is: <bound method Forecast.get_daily_high of <__main__.Forecast object at 0x0000016CB37223C8>> <bound method Forecast.get_daily_low of <__main__.Forecast object at 0x0000016CB37223C8>> with a <bound method Forecast.get_daily_chance_of_rain of <__main__.Forecast object at 0x0000016CB37223C8>> chance of precipitation.\n",
      "This week's weather forecast:Monday: <bound method Forecast.get_daily_high of <__main__.Forecast object at 0x0000016CB37223C8>> <bound method Forecast.get_daily_low of <__main__.Forecast object at 0x0000016CB37223C8>> <bound method Forecast.get_daily_chance_of_rain of <__main__.Forecast object at 0x0000016CB37223C8>>\n",
      "This week's weather forecast:Tuesday: <bound method Forecast.get_daily_high of <__main__.Forecast object at 0x0000016CB37223C8>> <bound method Forecast.get_daily_low of <__main__.Forecast object at 0x0000016CB37223C8>> <bound method Forecast.get_daily_chance_of_rain of <__main__.Forecast object at 0x0000016CB37223C8>>\n",
      "This week's weather forecast:Wednesday: <bound method Forecast.get_daily_high of <__main__.Forecast object at 0x0000016CB37223C8>> <bound method Forecast.get_daily_low of <__main__.Forecast object at 0x0000016CB37223C8>> <bound method Forecast.get_daily_chance_of_rain of <__main__.Forecast object at 0x0000016CB37223C8>>\n",
      "This week's weather forecast:Thursday: <bound method Forecast.get_daily_high of <__main__.Forecast object at 0x0000016CB37223C8>> <bound method Forecast.get_daily_low of <__main__.Forecast object at 0x0000016CB37223C8>> <bound method Forecast.get_daily_chance_of_rain of <__main__.Forecast object at 0x0000016CB37223C8>>\n",
      "This week's weather forecast:Friday: <bound method Forecast.get_daily_high of <__main__.Forecast object at 0x0000016CB37223C8>> <bound method Forecast.get_daily_low of <__main__.Forecast object at 0x0000016CB37223C8>> <bound method Forecast.get_daily_chance_of_rain of <__main__.Forecast object at 0x0000016CB37223C8>>\n",
      "This week's weather forecast:Saturday: <bound method Forecast.get_daily_high of <__main__.Forecast object at 0x0000016CB37223C8>> <bound method Forecast.get_daily_low of <__main__.Forecast object at 0x0000016CB37223C8>> <bound method Forecast.get_daily_chance_of_rain of <__main__.Forecast object at 0x0000016CB37223C8>>\n",
      "This week's weather forecast:Sunday: <bound method Forecast.get_daily_high of <__main__.Forecast object at 0x0000016CB37223C8>> <bound method Forecast.get_daily_low of <__main__.Forecast object at 0x0000016CB37223C8>> <bound method Forecast.get_daily_chance_of_rain of <__main__.Forecast object at 0x0000016CB37223C8>>\n"
     ]
    }
   ],
   "source": [
    "test = Forecast(\"Austin,TX\")\n",
    "test.display_daily_forecast()\n",
    "test.display_weekly_forecast()"
   ]
  },
  {
   "cell_type": "code",
   "execution_count": 41,
   "metadata": {},
   "outputs": [
    {
     "ename": "SyntaxError",
     "evalue": "invalid syntax (<ipython-input-41-0e94c22d80f2>, line 1)",
     "output_type": "error",
     "traceback": [
      "\u001b[1;36m  File \u001b[1;32m\"<ipython-input-41-0e94c22d80f2>\"\u001b[1;36m, line \u001b[1;32m1\u001b[0m\n\u001b[1;33m    Nice work!\u001b[0m\n\u001b[1;37m            ^\u001b[0m\n\u001b[1;31mSyntaxError\u001b[0m\u001b[1;31m:\u001b[0m invalid syntax\n"
     ]
    }
   ],
   "source": [
    "Nice work!"
   ]
  },
  {
   "cell_type": "code",
   "execution_count": null,
   "metadata": {},
   "outputs": [],
   "source": []
  }
 ],
 "metadata": {
  "kernelspec": {
   "display_name": "Python 3",
   "language": "python",
   "name": "python3"
  },
  "language_info": {
   "codemirror_mode": {
    "name": "ipython",
    "version": 3
   },
   "file_extension": ".py",
   "mimetype": "text/x-python",
   "name": "python",
   "nbconvert_exporter": "python",
   "pygments_lexer": "ipython3",
   "version": "3.7.4"
  }
 },
 "nbformat": 4,
 "nbformat_minor": 2
}
